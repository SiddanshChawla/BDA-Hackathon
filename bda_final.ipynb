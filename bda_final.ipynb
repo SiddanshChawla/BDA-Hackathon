{
  "cells": [
    {
      "cell_type": "markdown",
      "source": [
        "# Big Data Analytics Hackathon  \n",
        "1.   Gunika Dhingra  E20CSE244\n",
        "2.   Siddansh Chawla E20CSE249\n",
        "\n"
      ],
      "metadata": {
        "id": "qQ2U9JF2udsC"
      },
      "id": "qQ2U9JF2udsC"
    },
    {
      "cell_type": "markdown",
      "source": [
        "###Installing dependencies and importing models"
      ],
      "metadata": {
        "id": "jw2Pvrllvcwv"
      },
      "id": "jw2Pvrllvcwv"
    },
    {
      "cell_type": "code",
      "source": [
        "pip install pyspark"
      ],
      "metadata": {
        "colab": {
          "base_uri": "https://localhost:8080/"
        },
        "id": "tZhC8H5d2XLh",
        "outputId": "4134142d-7e02-454e-801b-dd05ad6a7ee6"
      },
      "id": "tZhC8H5d2XLh",
      "execution_count": null,
      "outputs": [
        {
          "output_type": "stream",
          "name": "stdout",
          "text": [
            "Looking in indexes: https://pypi.org/simple, https://us-python.pkg.dev/colab-wheels/public/simple/\n",
            "Collecting pyspark\n",
            "  Downloading pyspark-3.3.1.tar.gz (281.4 MB)\n",
            "\u001b[K     |████████████████████████████████| 281.4 MB 43 kB/s \n",
            "\u001b[?25hCollecting py4j==0.10.9.5\n",
            "  Downloading py4j-0.10.9.5-py2.py3-none-any.whl (199 kB)\n",
            "\u001b[K     |████████████████████████████████| 199 kB 53.7 MB/s \n",
            "\u001b[?25hBuilding wheels for collected packages: pyspark\n",
            "  Building wheel for pyspark (setup.py) ... \u001b[?25l\u001b[?25hdone\n",
            "  Created wheel for pyspark: filename=pyspark-3.3.1-py2.py3-none-any.whl size=281845512 sha256=4f210afebbe1f1aea5bd9cca7a9495b8f5d71202d9c063745c55243f1c22ca53\n",
            "  Stored in directory: /root/.cache/pip/wheels/42/59/f5/79a5bf931714dcd201b26025347785f087370a10a3329a899c\n",
            "Successfully built pyspark\n",
            "Installing collected packages: py4j, pyspark\n",
            "Successfully installed py4j-0.10.9.5 pyspark-3.3.1\n"
          ]
        }
      ]
    },
    {
      "cell_type": "code",
      "execution_count": null,
      "id": "bbae90ad",
      "metadata": {
        "id": "bbae90ad"
      },
      "outputs": [],
      "source": [
        "from pyspark.sql import SparkSession\n",
        "from pyspark.sql.functions import split\n",
        "from pyspark.sql.functions import avg, round\n",
        "from pyspark.sql.functions import monotonically_increasing_id, row_number\n",
        "from pyspark.sql.window import Window\n",
        "from pyspark.sql.functions import format_number"
      ]
    },
    {
      "cell_type": "code",
      "execution_count": null,
      "id": "c5331b5c",
      "metadata": {
        "id": "c5331b5c"
      },
      "outputs": [],
      "source": [
        "spark = SparkSession.builder.appName(\"BDA test 1\").getOrCreate()"
      ]
    },
    {
      "cell_type": "code",
      "execution_count": null,
      "id": "2105814e",
      "metadata": {
        "colab": {
          "base_uri": "https://localhost:8080/",
          "height": 216
        },
        "id": "2105814e",
        "outputId": "ee5ef59c-e5d0-4e50-c68a-72efebdbef7f"
      },
      "outputs": [
        {
          "output_type": "execute_result",
          "data": {
            "text/plain": [
              "<pyspark.sql.session.SparkSession at 0x7f7d69145890>"
            ],
            "text/html": [
              "\n",
              "            <div>\n",
              "                <p><b>SparkSession - in-memory</b></p>\n",
              "                \n",
              "        <div>\n",
              "            <p><b>SparkContext</b></p>\n",
              "\n",
              "            <p><a href=\"http://4175ed0d2b2d:4040\">Spark UI</a></p>\n",
              "\n",
              "            <dl>\n",
              "              <dt>Version</dt>\n",
              "                <dd><code>v3.3.1</code></dd>\n",
              "              <dt>Master</dt>\n",
              "                <dd><code>local[*]</code></dd>\n",
              "              <dt>AppName</dt>\n",
              "                <dd><code>BDA test 1</code></dd>\n",
              "            </dl>\n",
              "        </div>\n",
              "        \n",
              "            </div>\n",
              "        "
            ]
          },
          "metadata": {},
          "execution_count": 430
        }
      ],
      "source": [
        "spark"
      ]
    },
    {
      "cell_type": "code",
      "execution_count": null,
      "id": "c7f429e5",
      "metadata": {
        "id": "c7f429e5"
      },
      "outputs": [],
      "source": [
        "data = spark.read.csv(\"ETH_1H.csv\", header=True, inferSchema=True)"
      ]
    },
    {
      "cell_type": "code",
      "execution_count": null,
      "id": "484cc20c",
      "metadata": {
        "colab": {
          "base_uri": "https://localhost:8080/"
        },
        "id": "484cc20c",
        "outputId": "45ff8522-6954-4212-8f34-f23b44e8c85a"
      },
      "outputs": [
        {
          "output_type": "stream",
          "name": "stdout",
          "text": [
            "There are 34497 rows and 8 columns\n"
          ]
        }
      ],
      "source": [
        "print(f'There are {data.count()} rows and {len(data.columns)} columns')"
      ]
    },
    {
      "cell_type": "code",
      "execution_count": null,
      "id": "a3ca85a3",
      "metadata": {
        "colab": {
          "base_uri": "https://localhost:8080/"
        },
        "id": "a3ca85a3",
        "outputId": "cbdba29f-7a34-4ae1-b646-1fe4c1e90eb8"
      },
      "outputs": [
        {
          "output_type": "stream",
          "name": "stdout",
          "text": [
            "+--------------+--------------+------+------+------+------+------+-----------+\n",
            "|Unix Timestamp|          Date|Symbol|  Open|  High|   Low| Close|     Volume|\n",
            "+--------------+--------------+------+------+------+------+------+-----------+\n",
            "|      1.587E12| 16/04/20 0:00|ETHUSD|152.94|152.94|150.39|150.39| 650.188125|\n",
            "|    1.58699E12|15/04/20 23:00|ETHUSD|155.81|155.81|151.39|152.94|4277.567299|\n",
            "|    1.58699E12|15/04/20 22:00|ETHUSD|157.18| 157.3|155.32|155.81|106.3372791|\n",
            "|    1.58698E12|15/04/20 21:00|ETHUSD|158.04|158.31|157.16|157.18|55.24413059|\n",
            "|    1.58698E12|15/04/20 20:00|ETHUSD| 157.1| 158.1|156.87|158.04| 144.262622|\n",
            "+--------------+--------------+------+------+------+------+------+-----------+\n",
            "only showing top 5 rows\n",
            "\n"
          ]
        }
      ],
      "source": [
        "data.show(5)"
      ]
    },
    {
      "cell_type": "code",
      "execution_count": null,
      "id": "74e9a9ed",
      "metadata": {
        "colab": {
          "base_uri": "https://localhost:8080/"
        },
        "id": "74e9a9ed",
        "outputId": "4a83ca4f-bb10-43c1-9027-1ab3bd8422f0"
      },
      "outputs": [
        {
          "output_type": "execute_result",
          "data": {
            "text/plain": [
              "[('Unix Timestamp', 'double'),\n",
              " ('Date', 'string'),\n",
              " ('Symbol', 'string'),\n",
              " ('Open', 'double'),\n",
              " ('High', 'double'),\n",
              " ('Low', 'double'),\n",
              " ('Close', 'double'),\n",
              " ('Volume', 'double')]"
            ]
          },
          "metadata": {},
          "execution_count": 434
        }
      ],
      "source": [
        "data.dtypes"
      ]
    },
    {
      "cell_type": "markdown",
      "source": [
        "###Data Cleaning and Preparation"
      ],
      "metadata": {
        "id": "HZ2uUYZ8u9QG"
      },
      "id": "HZ2uUYZ8u9QG"
    },
    {
      "cell_type": "code",
      "execution_count": null,
      "id": "3cde3bd0",
      "metadata": {
        "id": "3cde3bd0"
      },
      "outputs": [],
      "source": [
        "data = data.na.drop(how='any')"
      ]
    },
    {
      "cell_type": "code",
      "execution_count": null,
      "id": "cbb109d0",
      "metadata": {
        "colab": {
          "base_uri": "https://localhost:8080/"
        },
        "id": "cbb109d0",
        "outputId": "cbadd893-87d4-4e27-d60a-57b0862424c6"
      },
      "outputs": [
        {
          "output_type": "stream",
          "name": "stdout",
          "text": [
            "After removing null values there are 34497 rows and 8 columns\n"
          ]
        }
      ],
      "source": [
        "print(f'After removing null values there are {data.count()} rows and {len(data.columns)} columns')"
      ]
    },
    {
      "cell_type": "code",
      "execution_count": null,
      "id": "89041650",
      "metadata": {
        "colab": {
          "base_uri": "https://localhost:8080/"
        },
        "id": "89041650",
        "outputId": "302f506e-312a-4968-ee67-4a29111c91e5"
      },
      "outputs": [
        {
          "output_type": "stream",
          "name": "stdout",
          "text": [
            "+--------------+--------------+------+------+------+------+------+-----------+--------+-----+\n",
            "|Unix Timestamp|          Date|Symbol|  Open|  High|   Low| Close|     Volume|New_Date| Time|\n",
            "+--------------+--------------+------+------+------+------+------+-----------+--------+-----+\n",
            "|      1.587E12| 16/04/20 0:00|ETHUSD|152.94|152.94|150.39|150.39| 650.188125|16/04/20| 0:00|\n",
            "|    1.58699E12|15/04/20 23:00|ETHUSD|155.81|155.81|151.39|152.94|4277.567299|15/04/20|23:00|\n",
            "|    1.58699E12|15/04/20 22:00|ETHUSD|157.18| 157.3|155.32|155.81|106.3372791|15/04/20|22:00|\n",
            "|    1.58698E12|15/04/20 21:00|ETHUSD|158.04|158.31|157.16|157.18|55.24413059|15/04/20|21:00|\n",
            "|    1.58698E12|15/04/20 20:00|ETHUSD| 157.1| 158.1|156.87|158.04| 144.262622|15/04/20|20:00|\n",
            "+--------------+--------------+------+------+------+------+------+-----------+--------+-----+\n",
            "only showing top 5 rows\n",
            "\n"
          ]
        }
      ],
      "source": [
        "data = data.withColumn('New_Date', split(data['Date'], \" \").getItem(0))\\\n",
        "           .withColumn('Time', split(data['Date'], \" \").getItem(1))\n",
        "\n",
        "data.show(5)"
      ]
    },
    {
      "cell_type": "code",
      "execution_count": null,
      "id": "d6173797",
      "metadata": {
        "colab": {
          "base_uri": "https://localhost:8080/"
        },
        "id": "d6173797",
        "outputId": "7b5f90c0-88e7-475d-ab1c-44c607b0e032"
      },
      "outputs": [
        {
          "output_type": "stream",
          "name": "stdout",
          "text": [
            "+--------------+--------------+------+------+------+------+------+-----------+--------+-----+---+-----+----+\n",
            "|Unix Timestamp|          Date|Symbol|  Open|  High|   Low| Close|     Volume|New_Date| Time|Day|Month|Year|\n",
            "+--------------+--------------+------+------+------+------+------+-----------+--------+-----+---+-----+----+\n",
            "|      1.587E12| 16/04/20 0:00|ETHUSD|152.94|152.94|150.39|150.39| 650.188125|16/04/20| 0:00| 16|   04|  20|\n",
            "|    1.58699E12|15/04/20 23:00|ETHUSD|155.81|155.81|151.39|152.94|4277.567299|15/04/20|23:00| 15|   04|  20|\n",
            "|    1.58699E12|15/04/20 22:00|ETHUSD|157.18| 157.3|155.32|155.81|106.3372791|15/04/20|22:00| 15|   04|  20|\n",
            "|    1.58698E12|15/04/20 21:00|ETHUSD|158.04|158.31|157.16|157.18|55.24413059|15/04/20|21:00| 15|   04|  20|\n",
            "|    1.58698E12|15/04/20 20:00|ETHUSD| 157.1| 158.1|156.87|158.04| 144.262622|15/04/20|20:00| 15|   04|  20|\n",
            "+--------------+--------------+------+------+------+------+------+-----------+--------+-----+---+-----+----+\n",
            "only showing top 5 rows\n",
            "\n"
          ]
        }
      ],
      "source": [
        "data = data.withColumn('Day', split(data['New_Date'], \"/\").getItem(0))\\\n",
        "    .withColumn('Month', split(data['New_Date'], \"/\").getItem(1))\\\n",
        "    .withColumn('Year', split(data['New_Date'], \"/\").getItem(2))\n",
        "\n",
        "data.show(5)"
      ]
    },
    {
      "cell_type": "code",
      "source": [
        "from pyspark.sql.functions import concat_ws"
      ],
      "metadata": {
        "id": "uU7AsODJAKSa"
      },
      "id": "uU7AsODJAKSa",
      "execution_count": null,
      "outputs": []
    },
    {
      "cell_type": "code",
      "source": [
        "data = data.withColumn(\"monthYear\", concat_ws(\"/\", \"Month\", \"Year\"))"
      ],
      "metadata": {
        "id": "6nNDPT-P_5SL"
      },
      "id": "6nNDPT-P_5SL",
      "execution_count": null,
      "outputs": []
    },
    {
      "cell_type": "code",
      "source": [
        "data.show(5)"
      ],
      "metadata": {
        "colab": {
          "base_uri": "https://localhost:8080/"
        },
        "id": "hGTVtUiEAQzK",
        "outputId": "f82d7a0f-4070-4c95-a3d1-6dfd82fcdc9f"
      },
      "id": "hGTVtUiEAQzK",
      "execution_count": null,
      "outputs": [
        {
          "output_type": "stream",
          "name": "stdout",
          "text": [
            "+--------------+--------------+------+------+------+------+------+-----------+--------+-----+---+-----+----+---------+\n",
            "|Unix Timestamp|          Date|Symbol|  Open|  High|   Low| Close|     Volume|New_Date| Time|Day|Month|Year|monthYear|\n",
            "+--------------+--------------+------+------+------+------+------+-----------+--------+-----+---+-----+----+---------+\n",
            "|      1.587E12| 16/04/20 0:00|ETHUSD|152.94|152.94|150.39|150.39| 650.188125|16/04/20| 0:00| 16|   04|  20|    04/20|\n",
            "|    1.58699E12|15/04/20 23:00|ETHUSD|155.81|155.81|151.39|152.94|4277.567299|15/04/20|23:00| 15|   04|  20|    04/20|\n",
            "|    1.58699E12|15/04/20 22:00|ETHUSD|157.18| 157.3|155.32|155.81|106.3372791|15/04/20|22:00| 15|   04|  20|    04/20|\n",
            "|    1.58698E12|15/04/20 21:00|ETHUSD|158.04|158.31|157.16|157.18|55.24413059|15/04/20|21:00| 15|   04|  20|    04/20|\n",
            "|    1.58698E12|15/04/20 20:00|ETHUSD| 157.1| 158.1|156.87|158.04| 144.262622|15/04/20|20:00| 15|   04|  20|    04/20|\n",
            "+--------------+--------------+------+------+------+------+------+-----------+--------+-----+---+-----+----+---------+\n",
            "only showing top 5 rows\n",
            "\n"
          ]
        }
      ]
    },
    {
      "cell_type": "code",
      "execution_count": null,
      "id": "9cca9492",
      "metadata": {
        "scrolled": true,
        "id": "9cca9492"
      },
      "outputs": [],
      "source": [
        "data = data.drop('Date').drop('Time').drop('Unix Timestamp').drop('Symbol')"
      ]
    },
    {
      "cell_type": "code",
      "execution_count": null,
      "id": "cecb45ca",
      "metadata": {
        "colab": {
          "base_uri": "https://localhost:8080/"
        },
        "id": "cecb45ca",
        "outputId": "592c367e-79f7-404e-e017-58f6332a7913"
      },
      "outputs": [
        {
          "output_type": "stream",
          "name": "stdout",
          "text": [
            "+------+------+------+------+-----------+--------+---+-----+----+---------+\n",
            "|  Open|  High|   Low| Close|     Volume|New_Date|Day|Month|Year|monthYear|\n",
            "+------+------+------+------+-----------+--------+---+-----+----+---------+\n",
            "|152.94|152.94|150.39|150.39| 650.188125|16/04/20| 16|   04|  20|    04/20|\n",
            "|155.81|155.81|151.39|152.94|4277.567299|15/04/20| 15|   04|  20|    04/20|\n",
            "|157.18| 157.3|155.32|155.81|106.3372791|15/04/20| 15|   04|  20|    04/20|\n",
            "|158.04|158.31|157.16|157.18|55.24413059|15/04/20| 15|   04|  20|    04/20|\n",
            "| 157.1| 158.1|156.87|158.04| 144.262622|15/04/20| 15|   04|  20|    04/20|\n",
            "+------+------+------+------+-----------+--------+---+-----+----+---------+\n",
            "only showing top 5 rows\n",
            "\n"
          ]
        }
      ],
      "source": [
        "data.show(5)"
      ]
    },
    {
      "cell_type": "code",
      "execution_count": null,
      "id": "3aa61eda",
      "metadata": {
        "colab": {
          "base_uri": "https://localhost:8080/"
        },
        "id": "3aa61eda",
        "outputId": "e2ff4c54-a067-4f6c-ab7b-c06509ce905f"
      },
      "outputs": [
        {
          "output_type": "execute_result",
          "data": {
            "text/plain": [
              "34497"
            ]
          },
          "metadata": {},
          "execution_count": 444
        }
      ],
      "source": [
        "data.count()"
      ]
    },
    {
      "cell_type": "code",
      "execution_count": null,
      "id": "bef34b5b",
      "metadata": {
        "id": "bef34b5b"
      },
      "outputs": [],
      "source": [
        "data = data.select(\"New_Date\", \"monthYear\", \"Day\", \"Month\", \"Year\", \"Open\", \"High\", \"Low\", \"Close\", \"Volume\")"
      ]
    },
    {
      "cell_type": "code",
      "execution_count": null,
      "id": "022aa1bb",
      "metadata": {
        "colab": {
          "base_uri": "https://localhost:8080/"
        },
        "id": "022aa1bb",
        "outputId": "5624928d-ffa7-4a89-d4a5-f753f4f99941"
      },
      "outputs": [
        {
          "output_type": "stream",
          "name": "stdout",
          "text": [
            "+--------+---------+---+-----+----+------+------+------+------+-----------+\n",
            "|New_Date|monthYear|Day|Month|Year|  Open|  High|   Low| Close|     Volume|\n",
            "+--------+---------+---+-----+----+------+------+------+------+-----------+\n",
            "|16/04/20|    04/20| 16|   04|  20|152.94|152.94|150.39|150.39| 650.188125|\n",
            "|15/04/20|    04/20| 15|   04|  20|155.81|155.81|151.39|152.94|4277.567299|\n",
            "|15/04/20|    04/20| 15|   04|  20|157.18| 157.3|155.32|155.81|106.3372791|\n",
            "|15/04/20|    04/20| 15|   04|  20|158.04|158.31|157.16|157.18|55.24413059|\n",
            "|15/04/20|    04/20| 15|   04|  20| 157.1| 158.1|156.87|158.04| 144.262622|\n",
            "+--------+---------+---+-----+----+------+------+------+------+-----------+\n",
            "only showing top 5 rows\n",
            "\n"
          ]
        }
      ],
      "source": [
        "data.show(5)"
      ]
    },
    {
      "cell_type": "code",
      "execution_count": null,
      "id": "65c584eb",
      "metadata": {
        "id": "65c584eb"
      },
      "outputs": [],
      "source": [
        "data_select = data.select(\"Open\", \"High\", \"Low\", \"Close\", \"Volume\")"
      ]
    },
    {
      "cell_type": "code",
      "execution_count": null,
      "id": "3cc13bf7",
      "metadata": {
        "id": "3cc13bf7"
      },
      "outputs": [],
      "source": [
        "data_select = data_select.select([round(c,2).alias(c) for c in data_select.columns])"
      ]
    },
    {
      "cell_type": "code",
      "execution_count": null,
      "id": "8fd792d4",
      "metadata": {
        "colab": {
          "base_uri": "https://localhost:8080/"
        },
        "id": "8fd792d4",
        "outputId": "84c5620d-0b7e-4610-850b-969a72bf5ee9"
      },
      "outputs": [
        {
          "output_type": "stream",
          "name": "stdout",
          "text": [
            "+------+------+------+------+-------+\n",
            "|  Open|  High|   Low| Close| Volume|\n",
            "+------+------+------+------+-------+\n",
            "|152.94|152.94|150.39|150.39| 650.19|\n",
            "|155.81|155.81|151.39|152.94|4277.57|\n",
            "|157.18| 157.3|155.32|155.81| 106.34|\n",
            "|158.04|158.31|157.16|157.18|  55.24|\n",
            "| 157.1| 158.1|156.87|158.04| 144.26|\n",
            "|157.78|157.84| 157.1| 157.1| 329.36|\n",
            "|157.48| 158.2|157.48|157.78| 520.14|\n",
            "|157.12|157.78| 156.9|157.48| 156.55|\n",
            "|155.81|157.52|155.74|157.12| 430.08|\n",
            "|157.12|157.15|155.81|155.81| 303.84|\n",
            "|156.57|158.09|156.57|157.12| 747.87|\n",
            "|156.46|157.67| 155.5|156.57| 320.06|\n",
            "|157.45|157.76|155.58|156.46|1922.31|\n",
            "|157.69|158.26|157.09|157.45| 993.97|\n",
            "|159.05|159.76|157.25|157.69| 866.47|\n",
            "|158.77|159.41|157.88|159.05| 108.16|\n",
            "|159.84|160.02|158.44|158.77|  96.26|\n",
            "|160.21|160.21|159.56|159.84|  57.71|\n",
            "|160.91|161.52|160.07|160.21|  113.1|\n",
            "|159.97|160.91|159.89|160.91|  72.62|\n",
            "+------+------+------+------+-------+\n",
            "only showing top 20 rows\n",
            "\n"
          ]
        }
      ],
      "source": [
        "data_select.show()"
      ]
    },
    {
      "cell_type": "code",
      "execution_count": null,
      "id": "439374bb",
      "metadata": {
        "id": "439374bb"
      },
      "outputs": [],
      "source": [
        "data = data.drop('Open').drop('High').drop('Low').drop('Close').drop('Volume')"
      ]
    },
    {
      "cell_type": "code",
      "execution_count": null,
      "id": "08b77717",
      "metadata": {
        "colab": {
          "base_uri": "https://localhost:8080/"
        },
        "id": "08b77717",
        "outputId": "47196210-b70b-4cb7-9c87-f565bc879e5f"
      },
      "outputs": [
        {
          "output_type": "stream",
          "name": "stdout",
          "text": [
            "+--------+---------+---+-----+----+\n",
            "|New_Date|monthYear|Day|Month|Year|\n",
            "+--------+---------+---+-----+----+\n",
            "|16/04/20|    04/20| 16|   04|  20|\n",
            "|15/04/20|    04/20| 15|   04|  20|\n",
            "|15/04/20|    04/20| 15|   04|  20|\n",
            "|15/04/20|    04/20| 15|   04|  20|\n",
            "|15/04/20|    04/20| 15|   04|  20|\n",
            "+--------+---------+---+-----+----+\n",
            "only showing top 5 rows\n",
            "\n"
          ]
        }
      ],
      "source": [
        "data.show(5)"
      ]
    },
    {
      "cell_type": "code",
      "execution_count": null,
      "id": "33d9890e",
      "metadata": {
        "colab": {
          "base_uri": "https://localhost:8080/"
        },
        "id": "33d9890e",
        "outputId": "281abe85-31f6-471f-f56c-93a52ddff1db"
      },
      "outputs": [
        {
          "output_type": "stream",
          "name": "stdout",
          "text": [
            "+--------+---------+---+-----+----+------+------+------+------+-------+\n",
            "|New_Date|monthYear|Day|Month|Year|  Open|  High|   Low| Close| Volume|\n",
            "+--------+---------+---+-----+----+------+------+------+------+-------+\n",
            "|16/04/20|    04/20| 16|   04|  20|152.94|152.94|150.39|150.39| 650.19|\n",
            "|15/04/20|    04/20| 15|   04|  20|155.81|155.81|151.39|152.94|4277.57|\n",
            "|15/04/20|    04/20| 15|   04|  20|157.18| 157.3|155.32|155.81| 106.34|\n",
            "|15/04/20|    04/20| 15|   04|  20|158.04|158.31|157.16|157.18|  55.24|\n",
            "|15/04/20|    04/20| 15|   04|  20| 157.1| 158.1|156.87|158.04| 144.26|\n",
            "|15/04/20|    04/20| 15|   04|  20|157.78|157.84| 157.1| 157.1| 329.36|\n",
            "|15/04/20|    04/20| 15|   04|  20|157.48| 158.2|157.48|157.78| 520.14|\n",
            "|15/04/20|    04/20| 15|   04|  20|157.12|157.78| 156.9|157.48| 156.55|\n",
            "|15/04/20|    04/20| 15|   04|  20|155.81|157.52|155.74|157.12| 430.08|\n",
            "|15/04/20|    04/20| 15|   04|  20|157.12|157.15|155.81|155.81| 303.84|\n",
            "|15/04/20|    04/20| 15|   04|  20|156.57|158.09|156.57|157.12| 747.87|\n",
            "|15/04/20|    04/20| 15|   04|  20|156.46|157.67| 155.5|156.57| 320.06|\n",
            "|15/04/20|    04/20| 15|   04|  20|157.45|157.76|155.58|156.46|1922.31|\n",
            "|15/04/20|    04/20| 15|   04|  20|157.69|158.26|157.09|157.45| 993.97|\n",
            "|15/04/20|    04/20| 15|   04|  20|159.05|159.76|157.25|157.69| 866.47|\n",
            "|15/04/20|    04/20| 15|   04|  20|158.77|159.41|157.88|159.05| 108.16|\n",
            "|15/04/20|    04/20| 15|   04|  20|159.84|160.02|158.44|158.77|  96.26|\n",
            "|15/04/20|    04/20| 15|   04|  20|160.21|160.21|159.56|159.84|  57.71|\n",
            "|15/04/20|    04/20| 15|   04|  20|160.91|161.52|160.07|160.21|  113.1|\n",
            "|15/04/20|    04/20| 15|   04|  20|159.97|160.91|159.89|160.91|  72.62|\n",
            "+--------+---------+---+-----+----+------+------+------+------+-------+\n",
            "only showing top 20 rows\n",
            "\n"
          ]
        }
      ],
      "source": [
        "data = data.withColumn('row_index', row_number().over(Window.orderBy(monotonically_increasing_id())))\n",
        "data_select = data_select.withColumn('row_index', row_number().over(Window.orderBy(monotonically_increasing_id())))\n",
        "\n",
        "data = data.join(data_select, on=[\"row_index\"]).drop(\"row_index\")\n",
        "data.show()"
      ]
    },
    {
      "cell_type": "code",
      "source": [
        "data.dtypes"
      ],
      "metadata": {
        "colab": {
          "base_uri": "https://localhost:8080/"
        },
        "id": "LXKdIf72bOmC",
        "outputId": "5541bcdd-0f47-4d8b-fc01-59cd92de29e6"
      },
      "id": "LXKdIf72bOmC",
      "execution_count": null,
      "outputs": [
        {
          "output_type": "execute_result",
          "data": {
            "text/plain": [
              "[('New_Date', 'string'),\n",
              " ('monthYear', 'string'),\n",
              " ('Day', 'string'),\n",
              " ('Month', 'string'),\n",
              " ('Year', 'string'),\n",
              " ('Open', 'double'),\n",
              " ('High', 'double'),\n",
              " ('Low', 'double'),\n",
              " ('Close', 'double'),\n",
              " ('Volume', 'double')]"
            ]
          },
          "metadata": {},
          "execution_count": 453
        }
      ]
    },
    {
      "cell_type": "code",
      "source": [
        "model1_data = data.groupBy('New_Date').agg(avg('Open').alias('Avg_Open'),avg('Close').alias('Avg_Close'))\n",
        "model1_extra = data.groupBy('New_Date').sum('Volume').drop(\"New_Date\")"
      ],
      "metadata": {
        "id": "4SU9p35MWIJx"
      },
      "id": "4SU9p35MWIJx",
      "execution_count": null,
      "outputs": []
    },
    {
      "cell_type": "code",
      "source": [
        "model1_data = model1_data.withColumn('row_number', row_number().over(Window.orderBy(monotonically_increasing_id())))\n",
        "model1_extra = model1_extra.withColumn('row_number', row_number().over(Window.orderBy(monotonically_increasing_id())))\n",
        "\n",
        "model1_data = model1_data.join(model1_extra, on=[\"row_number\"]).drop(\"row_number\")"
      ],
      "metadata": {
        "id": "UfPm3xsFbexK"
      },
      "id": "UfPm3xsFbexK",
      "execution_count": null,
      "outputs": []
    },
    {
      "cell_type": "code",
      "source": [
        "model1_data.show()"
      ],
      "metadata": {
        "colab": {
          "base_uri": "https://localhost:8080/"
        },
        "id": "nY0HSRAtdmWu",
        "outputId": "1f2c08c8-4b3c-494b-c66d-384d044f13e6"
      },
      "id": "nY0HSRAtdmWu",
      "execution_count": null,
      "outputs": [
        {
          "output_type": "stream",
          "name": "stdout",
          "text": [
            "+--------+------------------+------------------+------------------+\n",
            "|New_Date|          Avg_Open|         Avg_Close|       sum(Volume)|\n",
            "+--------+------------------+------------------+------------------+\n",
            "|16/04/20|            152.94|            150.39|            650.19|\n",
            "|15/04/20|           158.145|157.90874999999997|16366.789999999999|\n",
            "|14/04/20| 158.5029166666667|158.57125000000005|18061.580000000005|\n",
            "|13/04/20|154.18708333333333|154.12083333333334|15698.310000000005|\n",
            "|12/04/20|159.88750000000002|159.88333333333335|12877.339999999998|\n",
            "|11/04/20|158.45416666666665|158.47083333333333|13761.710000000001|\n",
            "|10/04/20|160.62041666666667|160.08291666666665|          35635.45|\n",
            "|09/04/20|         170.93875|170.84208333333333|          17001.42|\n",
            "|08/04/20|169.59416666666667|            169.96|20071.039999999997|\n",
            "|07/04/20|170.75958333333332|170.47666666666666| 46133.40999999999|\n",
            "|06/04/20|         154.95625|156.14166666666668|59235.609999999986|\n",
            "|05/04/20|143.50791666666666|          143.4375|           7986.12|\n",
            "|04/04/20|142.25958333333332|142.39583333333334|19744.280000000002|\n",
            "|03/04/20| 142.6570833333333|142.65291666666664|          25410.75|\n",
            "|02/04/20|138.73000000000002|138.96166666666667|          34902.19|\n",
            "|01/04/20|131.88249999999996|131.98999999999998|           18294.1|\n",
            "|31/03/20|132.88791666666668|132.93208333333334|          15514.28|\n",
            "|30/03/20| 130.6945833333333| 131.0220833333333|29171.149999999994|\n",
            "|29/03/20|128.74333333333337|128.46125000000004|           9427.22|\n",
            "|28/03/20|128.95791666666665|         128.93625|          16802.89|\n",
            "+--------+------------------+------------------+------------------+\n",
            "only showing top 20 rows\n",
            "\n"
          ]
        }
      ]
    },
    {
      "cell_type": "code",
      "source": [
        "model1_data = model1_data.withColumn('Weighted_Price',(model1_data.Avg_Open+model1_data.Avg_Close)/2)"
      ],
      "metadata": {
        "id": "F8CJMrRsb36h"
      },
      "id": "F8CJMrRsb36h",
      "execution_count": null,
      "outputs": []
    },
    {
      "cell_type": "code",
      "source": [
        "model1_data.show()"
      ],
      "metadata": {
        "colab": {
          "base_uri": "https://localhost:8080/"
        },
        "id": "c05mRTNgdYlw",
        "outputId": "77ce0db0-b1f2-4812-c371-69826a264be8"
      },
      "id": "c05mRTNgdYlw",
      "execution_count": null,
      "outputs": [
        {
          "output_type": "stream",
          "name": "stdout",
          "text": [
            "+--------+------------------+------------------+------------------+------------------+------------------+\n",
            "|New_Date|          Avg_Open|         Avg_Close|       sum(Volume)|    Weighted_Price|           Average|\n",
            "+--------+------------------+------------------+------------------+------------------+------------------+\n",
            "|16/04/20|            152.94|            150.39|            650.19|           151.665|           151.665|\n",
            "|15/04/20|           158.145|157.90874999999997|16366.789999999999|        158.026875|        158.026875|\n",
            "|14/04/20| 158.5029166666667|158.57125000000005|18061.580000000005|158.53708333333338|158.53708333333338|\n",
            "|13/04/20|154.18708333333333|154.12083333333334|15698.310000000005|154.15395833333332|154.15395833333332|\n",
            "|12/04/20|159.88750000000002|159.88333333333335|12877.339999999998|159.88541666666669|159.88541666666669|\n",
            "|11/04/20|158.45416666666665|158.47083333333333|13761.710000000001|158.46249999999998|158.46249999999998|\n",
            "|10/04/20|160.62041666666667|160.08291666666665|          35635.45|160.35166666666666|160.35166666666666|\n",
            "|09/04/20|         170.93875|170.84208333333333|          17001.42|170.89041666666668|170.89041666666668|\n",
            "|08/04/20|169.59416666666667|            169.96|20071.039999999997|169.77708333333334|169.77708333333334|\n",
            "|07/04/20|170.75958333333332|170.47666666666666| 46133.40999999999|        170.618125|        170.618125|\n",
            "|06/04/20|         154.95625|156.14166666666668|59235.609999999986|155.54895833333336|155.54895833333336|\n",
            "|05/04/20|143.50791666666666|          143.4375|           7986.12|143.47270833333334|143.47270833333334|\n",
            "|04/04/20|142.25958333333332|142.39583333333334|19744.280000000002|142.32770833333333|142.32770833333333|\n",
            "|03/04/20| 142.6570833333333|142.65291666666664|          25410.75|142.65499999999997|142.65499999999997|\n",
            "|02/04/20|138.73000000000002|138.96166666666667|          34902.19|138.84583333333336|138.84583333333336|\n",
            "|01/04/20|131.88249999999996|131.98999999999998|           18294.1|131.93624999999997|131.93624999999997|\n",
            "|31/03/20|132.88791666666668|132.93208333333334|          15514.28|132.91000000000003|132.91000000000003|\n",
            "|30/03/20| 130.6945833333333| 131.0220833333333|29171.149999999994| 130.8583333333333| 130.8583333333333|\n",
            "|29/03/20|128.74333333333337|128.46125000000004|           9427.22| 128.6022916666667| 128.6022916666667|\n",
            "|28/03/20|128.95791666666665|         128.93625|          16802.89|128.94708333333332|128.94708333333332|\n",
            "+--------+------------------+------------------+------------------+------------------+------------------+\n",
            "only showing top 20 rows\n",
            "\n"
          ]
        }
      ]
    },
    {
      "cell_type": "code",
      "source": [
        "model1_data.dtypes"
      ],
      "metadata": {
        "colab": {
          "base_uri": "https://localhost:8080/"
        },
        "id": "wi-qcGRVcafA",
        "outputId": "1fcd3843-f97c-413e-f174-43c707d1131c"
      },
      "id": "wi-qcGRVcafA",
      "execution_count": null,
      "outputs": [
        {
          "output_type": "execute_result",
          "data": {
            "text/plain": [
              "[('New_Date', 'string'),\n",
              " ('Avg_Open', 'double'),\n",
              " ('Avg_Close', 'double'),\n",
              " ('sum(Volume)', 'double'),\n",
              " ('Weighted_Price', 'double'),\n",
              " ('Average', 'double')]"
            ]
          },
          "metadata": {},
          "execution_count": 493
        }
      ]
    },
    {
      "cell_type": "markdown",
      "source": [
        "###Data visualization"
      ],
      "metadata": {
        "id": "ZIkB3YS4qmV4"
      },
      "id": "ZIkB3YS4qmV4"
    },
    {
      "cell_type": "code",
      "source": [
        "import pyspark.sql.functions as f"
      ],
      "metadata": {
        "id": "p50GpelPuQwq"
      },
      "id": "p50GpelPuQwq",
      "execution_count": null,
      "outputs": []
    },
    {
      "cell_type": "code",
      "source": [
        "data_monthly_volume = data.groupBy('monthYear').sum('Volume')\n",
        "data_monthly_volume = data_monthly_volume.withColumn('index', f.monotonically_increasing_id()).orderBy(f.col('index').desc()).drop('index')\n",
        "data_monthly_volume.show()"
      ],
      "metadata": {
        "colab": {
          "base_uri": "https://localhost:8080/"
        },
        "id": "uiaU18fXqWI6",
        "outputId": "4abff5d6-ae04-4275-e324-6ee8665545c4"
      },
      "id": "uiaU18fXqWI6",
      "execution_count": null,
      "outputs": [
        {
          "output_type": "stream",
          "name": "stdout",
          "text": [
            "+---------+------------------+\n",
            "|monthYear|       sum(Volume)|\n",
            "+---------+------------------+\n",
            "|    05/16|133367.37999999992|\n",
            "|    06/16|391415.16999999987|\n",
            "|    07/16|131222.46000000005|\n",
            "|    08/16| 86774.35999999997|\n",
            "|    09/16| 64526.57999999999|\n",
            "|    10/16| 65610.40000000004|\n",
            "|    11/16|49769.100000000006|\n",
            "|    12/16| 76090.05000000005|\n",
            "|    01/17| 182287.0499999999|\n",
            "|    02/17|2752788.5300000035|\n",
            "|    03/17|        2292111.84|\n",
            "|    04/17|471526.29000000015|\n",
            "|    05/17|2670782.8800000027|\n",
            "|    06/17| 3265084.420000006|\n",
            "|    07/17| 5987820.120000006|\n",
            "|    08/17|3936314.1800000025|\n",
            "|    09/17| 2876855.599999998|\n",
            "|    10/17| 911667.0300000006|\n",
            "|    11/17| 1546950.080000001|\n",
            "|    12/17|         2600014.3|\n",
            "+---------+------------------+\n",
            "only showing top 20 rows\n",
            "\n"
          ]
        }
      ]
    },
    {
      "cell_type": "code",
      "source": [
        "pd1 = data_monthly_volume.toPandas()"
      ],
      "metadata": {
        "id": "ZNAtnz66tTrW"
      },
      "id": "ZNAtnz66tTrW",
      "execution_count": null,
      "outputs": []
    },
    {
      "cell_type": "code",
      "source": [
        "pd1.plot(kind='line', x='monthYear', y='sum(Volume)')\n",
        "plt.xlabel('month')            \n",
        "plt.ylabel('Volume per year')\n",
        "plt.title('Ethereum Volume Transition') \n",
        "plt.show()"
      ],
      "metadata": {
        "colab": {
          "base_uri": "https://localhost:8080/",
          "height": 295
        },
        "id": "VBAGKZZUtOOK",
        "outputId": "83de157c-9fbe-4654-d565-c2f343558ae6"
      },
      "id": "VBAGKZZUtOOK",
      "execution_count": null,
      "outputs": [
        {
          "output_type": "display_data",
          "data": {
            "text/plain": [
              "<Figure size 432x288 with 1 Axes>"
            ],
            "image/png": "[encoded data removed]"
          },
          "metadata": {}
        }
      ]
    },
    {
      "cell_type": "code",
      "source": [
        "data = data.withColumn('Average price',(data.Open+data.Close)/2)\n",
        "data_monthly_avg = data.groupBy('monthYear').max('Average price')\n",
        "data_monthly_avg = data_monthly_avg.withColumn('index', f.monotonically_increasing_id()).orderBy(f.col('index').desc()).drop('index')\n",
        "data_monthly_avg.show()"
      ],
      "metadata": {
        "colab": {
          "base_uri": "https://localhost:8080/"
        },
        "id": "zMtp2X11qfOK",
        "outputId": "3b76dc72-3645-41d5-aee0-c06ec3b47d24"
      },
      "id": "zMtp2X11qfOK",
      "execution_count": null,
      "outputs": [
        {
          "output_type": "stream",
          "name": "stdout",
          "text": [
            "+---------+------------------+\n",
            "|monthYear|max(Average price)|\n",
            "+---------+------------------+\n",
            "|    05/16|             14.75|\n",
            "|    06/16|             21.09|\n",
            "|    07/16|            15.375|\n",
            "|    08/16|             12.68|\n",
            "|    09/16|             14.34|\n",
            "|    10/16|              13.7|\n",
            "|    11/16|             11.57|\n",
            "|    12/16|             8.725|\n",
            "|    01/17|            11.805|\n",
            "|    02/17|16.119999999999997|\n",
            "|    03/17|             53.56|\n",
            "|    04/17|            78.705|\n",
            "|    05/17|            230.74|\n",
            "|    06/17|           393.575|\n",
            "|    07/17|289.07000000000005|\n",
            "|    08/17|            388.53|\n",
            "|    09/17|            394.52|\n",
            "|    10/17|            346.38|\n",
            "|    11/17|502.40999999999997|\n",
            "|    12/17|           858.385|\n",
            "+---------+------------------+\n",
            "only showing top 20 rows\n",
            "\n"
          ]
        }
      ]
    },
    {
      "cell_type": "code",
      "source": [
        "pd2 = data_monthly_avg.toPandas()"
      ],
      "metadata": {
        "id": "jJEH4bkDtrb2"
      },
      "id": "jJEH4bkDtrb2",
      "execution_count": null,
      "outputs": []
    },
    {
      "cell_type": "code",
      "source": [
        "pd2.plot(kind='line', x='monthYear', y='max(Average price)')\n",
        "plt.xlabel('month')            \n",
        "plt.ylabel('Price per month')\n",
        "plt.title('Ethereum price Transition') \n",
        "plt.show()"
      ],
      "metadata": {
        "colab": {
          "base_uri": "https://localhost:8080/",
          "height": 295
        },
        "id": "kgbUofC7tqKx",
        "outputId": "bd46ff60-78db-4218-fb67-25c1c6f92484"
      },
      "id": "kgbUofC7tqKx",
      "execution_count": null,
      "outputs": [
        {
          "output_type": "display_data",
          "data": {
            "text/plain": [
              "<Figure size 432x288 with 1 Axes>"
            ],
            "image/png": "[encoded data removed]"
          },
          "metadata": {}
        }
      ]
    },
    {
      "cell_type": "markdown",
      "source": [
        "###Linear Regression model"
      ],
      "metadata": {
        "id": "8uQ_xLN6qR-x"
      },
      "id": "8uQ_xLN6qR-x"
    },
    {
      "cell_type": "code",
      "source": [
        "from pyspark.ml.regression import LinearRegression\n",
        "from pyspark.ml.feature import VectorAssembler"
      ],
      "metadata": {
        "id": "kvbF0HCg4j0N"
      },
      "execution_count": null,
      "outputs": [],
      "id": "kvbF0HCg4j0N"
    },
    {
      "cell_type": "code",
      "source": [
        "featureassembler = VectorAssembler(inputCols = [\"Avg_Open\",\"Avg_Close\",\"sum(Volume)\", \"Weighted_Price\"], outputCol = \"features\")\n",
        "data_assembled = featureassembler.transform(model1_data)  "
      ],
      "metadata": {
        "id": "6v886U67QNfX"
      },
      "execution_count": null,
      "outputs": [],
      "id": "6v886U67QNfX"
    },
    {
      "cell_type": "code",
      "source": [
        "data_assembled.show(truncate=False)"
      ],
      "metadata": {
        "colab": {
          "base_uri": "https://localhost:8080/"
        },
        "id": "rHG38Z0ie10I",
        "outputId": "0082abaf-b6fe-4463-9909-88bbb6918436"
      },
      "id": "rHG38Z0ie10I",
      "execution_count": null,
      "outputs": [
        {
          "output_type": "stream",
          "name": "stdout",
          "text": [
            "+--------+------------------+------------------+------------------+------------------+------------------+-----------------------------------------------------------------------------+\n",
            "|New_Date|Avg_Open          |Avg_Close         |sum(Volume)       |Weighted_Price    |Average           |features                                                                     |\n",
            "+--------+------------------+------------------+------------------+------------------+------------------+-----------------------------------------------------------------------------+\n",
            "|16/04/20|152.94            |150.39            |650.19            |151.665           |151.665           |[152.94,150.39,650.19,151.665]                                               |\n",
            "|15/04/20|158.145           |157.90874999999997|16366.789999999999|158.026875        |158.026875        |[158.145,157.90874999999997,16366.789999999999,158.026875]                   |\n",
            "|14/04/20|158.5029166666667 |158.57125000000005|18061.580000000005|158.53708333333338|158.53708333333338|[158.5029166666667,158.57125000000005,18061.580000000005,158.53708333333338] |\n",
            "|13/04/20|154.18708333333333|154.12083333333334|15698.310000000005|154.15395833333332|154.15395833333332|[154.18708333333333,154.12083333333334,15698.310000000005,154.15395833333332]|\n",
            "|12/04/20|159.88750000000002|159.88333333333335|12877.339999999998|159.88541666666669|159.88541666666669|[159.88750000000002,159.88333333333335,12877.339999999998,159.88541666666669]|\n",
            "|11/04/20|158.45416666666665|158.47083333333333|13761.710000000001|158.46249999999998|158.46249999999998|[158.45416666666665,158.47083333333333,13761.710000000001,158.46249999999998]|\n",
            "|10/04/20|160.62041666666667|160.08291666666665|35635.45          |160.35166666666666|160.35166666666666|[160.62041666666667,160.08291666666665,35635.45,160.35166666666666]          |\n",
            "|09/04/20|170.93875         |170.84208333333333|17001.42          |170.89041666666668|170.89041666666668|[170.93875,170.84208333333333,17001.42,170.89041666666668]                   |\n",
            "|08/04/20|169.59416666666667|169.96            |20071.039999999997|169.77708333333334|169.77708333333334|[169.59416666666667,169.96,20071.039999999997,169.77708333333334]            |\n",
            "|07/04/20|170.75958333333332|170.47666666666666|46133.40999999999 |170.618125        |170.618125        |[170.75958333333332,170.47666666666666,46133.40999999999,170.618125]         |\n",
            "|06/04/20|154.95625         |156.14166666666668|59235.609999999986|155.54895833333336|155.54895833333336|[154.95625,156.14166666666668,59235.609999999986,155.54895833333336]         |\n",
            "|05/04/20|143.50791666666666|143.4375          |7986.12           |143.47270833333334|143.47270833333334|[143.50791666666666,143.4375,7986.12,143.47270833333334]                     |\n",
            "|04/04/20|142.25958333333332|142.39583333333334|19744.280000000002|142.32770833333333|142.32770833333333|[142.25958333333332,142.39583333333334,19744.280000000002,142.32770833333333]|\n",
            "|03/04/20|142.6570833333333 |142.65291666666664|25410.75          |142.65499999999997|142.65499999999997|[142.6570833333333,142.65291666666664,25410.75,142.65499999999997]           |\n",
            "|02/04/20|138.73000000000002|138.96166666666667|34902.19          |138.84583333333336|138.84583333333336|[138.73000000000002,138.96166666666667,34902.19,138.84583333333336]          |\n",
            "|01/04/20|131.88249999999996|131.98999999999998|18294.1           |131.93624999999997|131.93624999999997|[131.88249999999996,131.98999999999998,18294.1,131.93624999999997]           |\n",
            "|31/03/20|132.88791666666668|132.93208333333334|15514.28          |132.91000000000003|132.91000000000003|[132.88791666666668,132.93208333333334,15514.28,132.91000000000003]          |\n",
            "|30/03/20|130.6945833333333 |131.0220833333333 |29171.149999999994|130.8583333333333 |130.8583333333333 |[130.6945833333333,131.0220833333333,29171.149999999994,130.8583333333333]   |\n",
            "|29/03/20|128.74333333333337|128.46125000000004|9427.22           |128.6022916666667 |128.6022916666667 |[128.74333333333337,128.46125000000004,9427.22,128.6022916666667]            |\n",
            "|28/03/20|128.95791666666665|128.93625         |16802.89          |128.94708333333332|128.94708333333332|[128.95791666666665,128.93625,16802.89,128.94708333333332]                   |\n",
            "+--------+------------------+------------------+------------------+------------------+------------------+-----------------------------------------------------------------------------+\n",
            "only showing top 20 rows\n",
            "\n"
          ]
        }
      ]
    },
    {
      "cell_type": "code",
      "source": [
        "train_data, test_data = data_assembled.randomSplit([0.75, 0.25])"
      ],
      "metadata": {
        "id": "le3q_fpnQc6f"
      },
      "execution_count": null,
      "outputs": [],
      "id": "le3q_fpnQc6f"
    },
    {
      "cell_type": "code",
      "source": [
        "lr = (LinearRegression(featuresCol='features' , labelCol=\"Weighted_Price\", predictionCol='Predicted_price', \n",
        "                               maxIter=100, regParam=0.3, elasticNetParam=0.8, standardization=False))\n",
        "regressor = lr.fit(train_data)"
      ],
      "metadata": {
        "id": "rmcTtBwYQeoL"
      },
      "execution_count": null,
      "outputs": [],
      "id": "rmcTtBwYQeoL"
    },
    {
      "cell_type": "code",
      "source": [
        "pred_results = regressor.evaluate(test_data)\n",
        "results = pred_results.predictions.select('Avg_Open', 'Avg_Close', 'Weighted_Price','Predicted_price')"
      ],
      "metadata": {
        "id": "00j1DreqQhed"
      },
      "execution_count": null,
      "outputs": [],
      "id": "00j1DreqQhed"
    },
    {
      "cell_type": "code",
      "source": [
        "results.show(5)"
      ],
      "metadata": {
        "colab": {
          "base_uri": "https://localhost:8080/"
        },
        "id": "jfhLD2ghjZNa",
        "outputId": "e9d3d5e4-c20c-4b80-b147-0007c7e6dc9c"
      },
      "id": "jfhLD2ghjZNa",
      "execution_count": null,
      "outputs": [
        {
          "output_type": "stream",
          "name": "stdout",
          "text": [
            "+------------------+------------------+------------------+------------------+\n",
            "|          Avg_Open|         Avg_Close|    Weighted_Price|   Predicted_price|\n",
            "+------------------+------------------+------------------+------------------+\n",
            "|133.39833333333334|133.76000000000002|133.57916666666668|133.57968936636198|\n",
            "|10.708749999999997|10.707499999999998|10.708124999999997| 10.70921812926977|\n",
            "|         135.50875|135.51749999999998|        135.513125|135.51352282247714|\n",
            "| 219.6916666666667|219.71249999999998|219.70208333333335|219.70211125024554|\n",
            "|           50.1275| 50.20458333333334| 50.16604166666667| 50.16685542420254|\n",
            "+------------------+------------------+------------------+------------------+\n",
            "only showing top 5 rows\n",
            "\n"
          ]
        }
      ]
    },
    {
      "cell_type": "code",
      "source": [
        "results = results.sort(results.Weighted_Price.asc())\n",
        "results.show()"
      ],
      "metadata": {
        "colab": {
          "base_uri": "https://localhost:8080/"
        },
        "id": "hRzUgQxeoOB0",
        "outputId": "23225279-3ba2-421e-d46f-390b6d91686b"
      },
      "id": "hRzUgQxeoOB0",
      "execution_count": null,
      "outputs": [
        {
          "output_type": "stream",
          "name": "stdout",
          "text": [
            "+------------------+------------------+------------------+------------------+\n",
            "|          Avg_Open|         Avg_Close|    Weighted_Price|   Predicted_price|\n",
            "+------------------+------------------+------------------+------------------+\n",
            "|           7.70375| 7.693750000000002| 7.698750000000001| 7.699703381593969|\n",
            "| 7.892916666666665| 7.866249999999998| 7.879583333333331|  7.88053229982867|\n",
            "|7.8929166666666655|7.9049999999999985| 7.898958333333332|  7.89991707461848|\n",
            "|           8.02875| 7.997083333333332| 8.012916666666666| 8.013888226439905|\n",
            "|  8.03083333333333| 8.001249999999995| 8.016041666666663| 8.016991232417446|\n",
            "|            8.1825| 8.180416666666664| 8.181458333333332| 8.182412784898501|\n",
            "| 8.359583333333333| 8.375833333333333| 8.367708333333333| 8.368667459766181|\n",
            "| 8.413333333333332| 8.411249999999997| 8.412291666666665| 8.413245122080735|\n",
            "| 8.859583333333333| 8.909583333333332| 8.884583333333332| 8.885562422291672|\n",
            "| 8.931250000000002| 8.904583333333335| 8.917916666666668| 8.918861373454167|\n",
            "| 9.183333333333332| 9.179583333333332| 9.181458333333332| 9.182410267053125|\n",
            "| 9.468749999999996|  9.46833333333333| 9.468541666666663| 9.469489316979502|\n",
            "| 9.754999999999999| 9.736666666666665| 9.745833333333332| 9.746782138784123|\n",
            "|            9.8225|           9.81625|          9.819375|  9.82032801227595|\n",
            "|10.067083333333334|10.067083333333333|10.067083333333333|10.068029565644451|\n",
            "|10.142499999999995|10.164583333333328|10.153541666666662| 10.15449497112645|\n",
            "|10.417916666666663|10.387499999999998| 10.40270833333333|10.403644487270984|\n",
            "|10.708749999999997|10.707499999999998|10.708124999999997| 10.70921812926977|\n",
            "|10.738750000000001|10.725833333333336|10.732291666666669|10.733236999281768|\n",
            "|10.752499999999998|10.755416666666667|10.753958333333333|10.755123854720884|\n",
            "+------------------+------------------+------------------+------------------+\n",
            "only showing top 20 rows\n",
            "\n"
          ]
        }
      ]
    },
    {
      "cell_type": "code",
      "source": [
        "from pyspark.ml.evaluation import RegressionEvaluator"
      ],
      "metadata": {
        "id": "4I6lbeuskD_6"
      },
      "id": "4I6lbeuskD_6",
      "execution_count": null,
      "outputs": []
    },
    {
      "cell_type": "code",
      "source": [
        "evaluator = RegressionEvaluator(\n",
        "    labelCol=\"Weighted_Price\", predictionCol=\"Predicted_price\", metricName=\"rmse\")\n",
        "rmse = evaluator.evaluate(results)\n",
        "print(\"Root Mean Squared Error (RMSE) on test data = %g\" % rmse)"
      ],
      "metadata": {
        "colab": {
          "base_uri": "https://localhost:8080/"
        },
        "id": "SGXaTk2Tj7GH",
        "outputId": "16624fbe-1b51-4a14-ea56-b3e13d2754fd"
      },
      "id": "SGXaTk2Tj7GH",
      "execution_count": null,
      "outputs": [
        {
          "output_type": "stream",
          "name": "stdout",
          "text": [
            "Root Mean Squared Error (RMSE) on test data = 0.00116758\n"
          ]
        }
      ]
    },
    {
      "cell_type": "code",
      "source": [
        "import matplotlib.pyplot as plt \n",
        "import seaborn as sns"
      ],
      "metadata": {
        "id": "pbZ7B3LEhibX"
      },
      "id": "pbZ7B3LEhibX",
      "execution_count": null,
      "outputs": []
    },
    {
      "cell_type": "code",
      "source": [],
      "metadata": {
        "id": "ogN8IoyalHOk"
      },
      "id": "ogN8IoyalHOk",
      "execution_count": null,
      "outputs": []
    },
    {
      "cell_type": "code",
      "source": [
        "pred_results=regressor.evaluate(test_data)\n",
        "weighted_price = pred_results.predictions.select('Weighted_Price').toPandas()\n",
        "predicted_price = pred_results.predictions.select(\"Predicted_price\").toPandas()\n",
        "plt.figure(figsize=(12,7))\n",
        "plt.plot(weighted_price, color='green', marker='.', linestyle='dashed', label='Predicted Price')\n",
        "plt.plot(predicted_price, color='red', label='Weighted Price')\n",
        "plt.title('Ethereum Weighted Prediction')\n",
        "plt.xlabel('Weighted_Price')\n",
        "plt.ylabel('Predicted_price')\n",
        "plt.legend()"
      ],
      "metadata": {
        "colab": {
          "base_uri": "https://localhost:8080/",
          "height": 476
        },
        "id": "zm538NnQipPU",
        "outputId": "67a3a05c-0fa3-45de-de6c-bea0edc4bd29"
      },
      "id": "zm538NnQipPU",
      "execution_count": null,
      "outputs": [
        {
          "output_type": "execute_result",
          "data": {
            "text/plain": [
              "<matplotlib.legend.Legend at 0x7f7d517e5f90>"
            ]
          },
          "metadata": {},
          "execution_count": 526
        },
        {
          "output_type": "display_data",
          "data": {
            "text/plain": [
              "<Figure size 864x504 with 1 Axes>"
            ],
            "image/png": "[encoded data removed]"
          },
          "metadata": {}
        }
      ]
    },
    {
      "cell_type": "markdown",
      "source": [
        "###Data Forecasting using Prophet timeseries model"
      ],
      "metadata": {
        "id": "gupqrIFzb0ku"
      },
      "id": "gupqrIFzb0ku"
    },
    {
      "cell_type": "code",
      "source": [
        "data1 = data.filter(~(data['Year'] == 20))"
      ],
      "metadata": {
        "id": "VSUVXW0MGgvW"
      },
      "id": "VSUVXW0MGgvW",
      "execution_count": 2,
      "outputs": []
    },
    {
      "cell_type": "code",
      "source": [
        "data1.show(50)"
      ],
      "metadata": {
        "colab": {
          "base_uri": "https://localhost:8080/"
        },
        "id": "wHqtNIDqHJ34",
        "outputId": "1364bad6-a902-4b84-eea6-bf15bee0ca70"
      },
      "id": "wHqtNIDqHJ34",
      "execution_count": null,
      "outputs": [
        {
          "output_type": "stream",
          "name": "stdout",
          "text": [
            "+--------------+--------+---------+---+-----+----+-----+----+----+---+-----+------+\n",
            "|Unix Timestamp|New_Date|monthYear|Day|Month|Year| Time|Open|High|Low|Close|Volume|\n",
            "+--------------+--------+---------+---+-----+----+-----+----+----+---+-----+------+\n",
            "| 1577830000000|31/12/19|    12/19| 31|   12|  19|23:00| 128| 128|127|  128|   128|\n",
            "| 1577830000000|31/12/19|    12/19| 31|   12|  19|22:00| 128| 128|127|  128|   128|\n",
            "| 1577830000000|31/12/19|    12/19| 31|   12|  19|21:00| 127| 128|127|  128|   128|\n",
            "| 1577820000000|31/12/19|    12/19| 31|   12|  19|20:00| 127| 128|127|  127|   127|\n",
            "| 1577820000000|31/12/19|    12/19| 31|   12|  19|19:00| 128| 128|127|  127|   127|\n",
            "| 1577820000000|31/12/19|    12/19| 31|   12|  19|18:00| 128| 129|128|  128|   128|\n",
            "| 1577810000000|31/12/19|    12/19| 31|   12|  19|17:00| 129| 129|128|  128|   128|\n",
            "| 1577810000000|31/12/19|    12/19| 31|   12|  19|16:00| 129| 130|128|  129|   129|\n",
            "| 1577800000000|31/12/19|    12/19| 31|   12|  19|15:00| 131| 131|128|  129|   129|\n",
            "| 1577800000000|31/12/19|    12/19| 31|   12|  19|14:00| 131| 133|130|  131|   131|\n",
            "| 1577800000000|31/12/19|    12/19| 31|   12|  19|13:00| 131| 131|131|  131|   131|\n",
            "| 1577790000000|31/12/19|    12/19| 31|   12|  19|12:00| 131| 131|130|  131|   131|\n",
            "| 1577790000000|31/12/19|    12/19| 31|   12|  19|11:00| 131| 131|131|  131|   131|\n",
            "| 1577790000000|31/12/19|    12/19| 31|   12|  19|10:00| 131| 131|131|  131|   131|\n",
            "| 1577780000000|31/12/19|    12/19| 31|   12|  19| 9:00| 131| 131|131|  131|   131|\n",
            "| 1577780000000|31/12/19|    12/19| 31|   12|  19| 8:00| 131| 131|131|  131|   131|\n",
            "| 1577780000000|31/12/19|    12/19| 31|   12|  19| 7:00| 132| 132|131|  131|   131|\n",
            "| 1577770000000|31/12/19|    12/19| 31|   12|  19| 6:00| 132| 132|131|  132|   132|\n",
            "| 1577770000000|31/12/19|    12/19| 31|   12|  19| 5:00| 130| 132|130|  132|   132|\n",
            "| 1577760000000|31/12/19|    12/19| 31|   12|  19| 4:00| 130| 131|130|  130|   130|\n",
            "| 1577760000000|31/12/19|    12/19| 31|   12|  19| 3:00| 130| 131|130|  130|   130|\n",
            "| 1577760000000|31/12/19|    12/19| 31|   12|  19| 2:00| 131| 131|130|  130|   130|\n",
            "| 1577750000000|31/12/19|    12/19| 31|   12|  19| 1:00| 130| 131|130|  131|   131|\n",
            "| 1577750000000|31/12/19|    12/19| 31|   12|  19| 0:00| 131| 131|130|  130|   130|\n",
            "| 1577750000000|30/12/19|    12/19| 30|   12|  19|23:00| 132| 132|130|  131|   131|\n",
            "| 1577740000000|30/12/19|    12/19| 30|   12|  19|22:00| 131| 132|131|  132|   132|\n",
            "| 1577740000000|30/12/19|    12/19| 30|   12|  19|21:00| 131| 131|131|  131|   131|\n",
            "| 1577740000000|30/12/19|    12/19| 30|   12|  19|20:00| 130| 131|130|  131|   131|\n",
            "| 1577730000000|30/12/19|    12/19| 30|   12|  19|19:00| 131| 131|130|  130|   130|\n",
            "| 1577730000000|30/12/19|    12/19| 30|   12|  19|18:00| 131| 131|130|  131|   131|\n",
            "| 1577730000000|30/12/19|    12/19| 30|   12|  19|17:00| 131| 131|130|  131|   131|\n",
            "| 1577720000000|30/12/19|    12/19| 30|   12|  19|16:00| 130| 131|130|  131|   131|\n",
            "| 1577720000000|30/12/19|    12/19| 30|   12|  19|15:00| 131| 131|130|  130|   130|\n",
            "| 1577710000000|30/12/19|    12/19| 30|   12|  19|14:00| 132| 132|130|  131|   131|\n",
            "| 1577710000000|30/12/19|    12/19| 30|   12|  19|13:00| 132| 132|131|  132|   132|\n",
            "| 1577710000000|30/12/19|    12/19| 30|   12|  19|12:00| 133| 133|132|  132|   132|\n",
            "| 1577700000000|30/12/19|    12/19| 30|   12|  19|11:00| 132| 133|132|  133|   133|\n",
            "| 1577700000000|30/12/19|    12/19| 30|   12|  19|10:00| 133| 133|132|  132|   132|\n",
            "| 1577700000000|30/12/19|    12/19| 30|   12|  19| 9:00| 134| 134|133|  133|   133|\n",
            "| 1577690000000|30/12/19|    12/19| 30|   12|  19| 8:00| 135| 135|133|  134|   134|\n",
            "| 1577690000000|30/12/19|    12/19| 30|   12|  19| 7:00| 134| 135|134|  135|   135|\n",
            "| 1577690000000|30/12/19|    12/19| 30|   12|  19| 6:00| 135| 135|134|  134|   134|\n",
            "| 1577680000000|30/12/19|    12/19| 30|   12|  19| 5:00| 134| 135|134|  135|   135|\n",
            "| 1577680000000|30/12/19|    12/19| 30|   12|  19| 4:00| 133| 135|133|  134|   134|\n",
            "| 1577670000000|30/12/19|    12/19| 30|   12|  19| 3:00| 134| 134|133|  133|   133|\n",
            "| 1577670000000|30/12/19|    12/19| 30|   12|  19| 2:00| 134| 134|133|  134|   134|\n",
            "| 1577670000000|30/12/19|    12/19| 30|   12|  19| 1:00| 133| 134|133|  134|   134|\n",
            "| 1577660000000|30/12/19|    12/19| 30|   12|  19| 0:00| 134| 134|133|  133|   133|\n",
            "| 1577660000000|29/12/19|    12/19| 29|   12|  19|23:00| 135| 135|134|  134|   134|\n",
            "| 1577660000000|29/12/19|    12/19| 29|   12|  19|22:00| 134| 135|134|  135|   135|\n",
            "+--------------+--------+---------+---+-----+----+-----+----+----+---+-----+------+\n",
            "only showing top 50 rows\n",
            "\n"
          ]
        }
      ]
    },
    {
      "cell_type": "code",
      "source": [
        "data1.dtypes"
      ],
      "metadata": {
        "colab": {
          "base_uri": "https://localhost:8080/"
        },
        "id": "7pwnRa6cTdle",
        "outputId": "588260f7-4ed3-4a73-9561-e019eb19ae9a"
      },
      "id": "7pwnRa6cTdle",
      "execution_count": null,
      "outputs": [
        {
          "output_type": "execute_result",
          "data": {
            "text/plain": [
              "[('Unix Timestamp', 'bigint'),\n",
              " ('New_Date', 'string'),\n",
              " ('monthYear', 'string'),\n",
              " ('Day', 'int'),\n",
              " ('Month', 'int'),\n",
              " ('Year', 'int'),\n",
              " ('Time', 'string'),\n",
              " ('Volume', 'int'),\n",
              " ('Open', 'int'),\n",
              " ('High', 'int'),\n",
              " ('Low', 'int'),\n",
              " ('Close', 'int')]"
            ]
          },
          "metadata": {},
          "execution_count": 265
        }
      ]
    },
    {
      "cell_type": "code",
      "source": [
        "# model1_data = data1.groupBy('New_Date').agg(avg('Open').alias('Avg_Open'),avg('Close').alias('Avg_Close'), sum('Volume').alias('Vol'))"
      ],
      "metadata": {
        "id": "ljFw9drqICII"
      },
      "id": "ljFw9drqICII",
      "execution_count": null,
      "outputs": []
    },
    {
      "cell_type": "code",
      "source": [
        "model1_data.show()"
      ],
      "metadata": {
        "colab": {
          "base_uri": "https://localhost:8080/"
        },
        "id": "6j5CSAicR0MK",
        "outputId": "877e6fde-b082-4075-bc26-33aa6f2b3059"
      },
      "id": "6j5CSAicR0MK",
      "execution_count": null,
      "outputs": [
        {
          "output_type": "stream",
          "name": "stdout",
          "text": [
            "+--------+------------------+------------------+\n",
            "|New_Date|          Avg_Open|         Avg_Close|\n",
            "+--------+------------------+------------------+\n",
            "|31/12/19|129.91666666666666|129.79166666666666|\n",
            "|30/12/19|             132.5|           132.375|\n",
            "|29/12/19|            129.75|130.04166666666666|\n",
            "|28/12/19|           127.125|127.16666666666667|\n",
            "|27/12/19|124.58333333333333|           124.625|\n",
            "|26/12/19|            125.25|125.29166666666667|\n",
            "|25/12/19|124.79166666666667|124.66666666666667|\n",
            "|24/12/19|127.54166666666667|             127.5|\n",
            "|23/12/19|           131.375|131.20833333333334|\n",
            "|22/12/19|           128.875|           129.125|\n",
            "|21/12/19|126.95833333333333|           126.875|\n",
            "|20/12/19|127.16666666666667|127.16666666666667|\n",
            "|19/12/19|127.20833333333333|127.04166666666667|\n",
            "|18/12/19|124.41666666666667|           124.875|\n",
            "|17/12/19|128.47826086956522|             128.0|\n",
            "|16/12/19|138.79166666666666|           138.375|\n",
            "|15/12/19|           141.625|141.66666666666666|\n",
            "|14/12/19|142.66666666666666|142.54166666666666|\n",
            "|13/12/19|           143.875|           143.875|\n",
            "|12/12/19|142.58333333333334|           142.625|\n",
            "+--------+------------------+------------------+\n",
            "only showing top 20 rows\n",
            "\n"
          ]
        }
      ]
    },
    {
      "cell_type": "code",
      "source": [
        "model2_data = data1.groupBy('New_Date').agg(avg('Volume').alias('Avg_Vol'))\n",
        "model2_data.show()"
      ],
      "metadata": {
        "colab": {
          "base_uri": "https://localhost:8080/"
        },
        "id": "1xNCKP-CQxe2",
        "outputId": "48bec954-5c81-4d20-8978-892af8bc35e6"
      },
      "id": "1xNCKP-CQxe2",
      "execution_count": null,
      "outputs": [
        {
          "output_type": "stream",
          "name": "stdout",
          "text": [
            "+--------+------------------+\n",
            "|New_Date|           Avg_Vol|\n",
            "+--------+------------------+\n",
            "|31/12/19| 385.6842105263158|\n",
            "|30/12/19| 321.1304347826087|\n",
            "|29/12/19| 321.2916666666667|\n",
            "|28/12/19|153.04166666666666|\n",
            "|27/12/19|204.82608695652175|\n",
            "|26/12/19| 148.8695652173913|\n",
            "|25/12/19|140.08333333333334|\n",
            "|24/12/19|115.78260869565217|\n",
            "|23/12/19|280.42105263157896|\n",
            "|22/12/19|164.17391304347825|\n",
            "|21/12/19|101.66666666666667|\n",
            "|20/12/19|237.27272727272728|\n",
            "|19/12/19| 316.1304347826087|\n",
            "|18/12/19| 418.8095238095238|\n",
            "|17/12/19|          385.6875|\n",
            "|16/12/19|             204.0|\n",
            "|15/12/19|114.41666666666667|\n",
            "|14/12/19| 95.29166666666667|\n",
            "|13/12/19|130.04347826086956|\n",
            "|12/12/19|242.28571428571428|\n",
            "+--------+------------------+\n",
            "only showing top 20 rows\n",
            "\n"
          ]
        }
      ]
    },
    {
      "cell_type": "code",
      "source": [
        "model2_data = model1_data.withColumn('Average',(model1_data.Avg_Open+model1_data.Avg_Close)/2)"
      ],
      "metadata": {
        "id": "z391oPt2JR1x"
      },
      "id": "z391oPt2JR1x",
      "execution_count": null,
      "outputs": []
    },
    {
      "cell_type": "code",
      "source": [
        "model2_data = model2_data.select(\"New_Date\", \"Average\")"
      ],
      "metadata": {
        "id": "tLkC30MKGude"
      },
      "id": "tLkC30MKGude",
      "execution_count": null,
      "outputs": []
    },
    {
      "cell_type": "code",
      "source": [
        "pip install prophet"
      ],
      "metadata": {
        "colab": {
          "base_uri": "https://localhost:8080/"
        },
        "id": "8NaZ1CFm3sQT",
        "outputId": "40ca6ef6-c514-4dcd-e59e-f498d55bd1c9"
      },
      "id": "8NaZ1CFm3sQT",
      "execution_count": null,
      "outputs": [
        {
          "output_type": "stream",
          "name": "stdout",
          "text": [
            "Looking in indexes: https://pypi.org/simple, https://us-python.pkg.dev/colab-wheels/public/simple/\n",
            "Requirement already satisfied: prophet in /usr/local/lib/python3.7/dist-packages (1.1.1)\n",
            "Requirement already satisfied: LunarCalendar>=0.0.9 in /usr/local/lib/python3.7/dist-packages (from prophet) (0.0.9)\n",
            "Requirement already satisfied: wheel>=0.37.0 in /usr/local/lib/python3.7/dist-packages (from prophet) (0.38.4)\n",
            "Requirement already satisfied: setuptools>=42 in /usr/local/lib/python3.7/dist-packages (from prophet) (57.4.0)\n",
            "Requirement already satisfied: python-dateutil>=2.8.0 in /usr/local/lib/python3.7/dist-packages (from prophet) (2.8.2)\n",
            "Requirement already satisfied: tqdm>=4.36.1 in /usr/local/lib/python3.7/dist-packages (from prophet) (4.64.1)\n",
            "Requirement already satisfied: holidays>=0.14.2 in /usr/local/lib/python3.7/dist-packages (from prophet) (0.17)\n",
            "Requirement already satisfied: convertdate>=2.1.2 in /usr/local/lib/python3.7/dist-packages (from prophet) (2.4.0)\n",
            "Requirement already satisfied: numpy>=1.15.4 in /usr/local/lib/python3.7/dist-packages (from prophet) (1.21.6)\n",
            "Requirement already satisfied: cmdstanpy>=1.0.4 in /usr/local/lib/python3.7/dist-packages (from prophet) (1.0.8)\n",
            "Requirement already satisfied: setuptools-git>=1.2 in /usr/local/lib/python3.7/dist-packages (from prophet) (1.2)\n",
            "Requirement already satisfied: pandas>=1.0.4 in /usr/local/lib/python3.7/dist-packages (from prophet) (1.3.5)\n",
            "Requirement already satisfied: matplotlib>=2.0.0 in /usr/local/lib/python3.7/dist-packages (from prophet) (3.2.2)\n",
            "Requirement already satisfied: pymeeus<=1,>=0.3.13 in /usr/local/lib/python3.7/dist-packages (from convertdate>=2.1.2->prophet) (0.5.11)\n",
            "Requirement already satisfied: korean-lunar-calendar in /usr/local/lib/python3.7/dist-packages (from holidays>=0.14.2->prophet) (0.3.1)\n",
            "Requirement already satisfied: hijri-converter in /usr/local/lib/python3.7/dist-packages (from holidays>=0.14.2->prophet) (2.2.4)\n",
            "Requirement already satisfied: pytz in /usr/local/lib/python3.7/dist-packages (from LunarCalendar>=0.0.9->prophet) (2022.6)\n",
            "Requirement already satisfied: ephem>=3.7.5.3 in /usr/local/lib/python3.7/dist-packages (from LunarCalendar>=0.0.9->prophet) (4.1.3)\n",
            "Requirement already satisfied: pyparsing!=2.0.4,!=2.1.2,!=2.1.6,>=2.0.1 in /usr/local/lib/python3.7/dist-packages (from matplotlib>=2.0.0->prophet) (3.0.9)\n",
            "Requirement already satisfied: kiwisolver>=1.0.1 in /usr/local/lib/python3.7/dist-packages (from matplotlib>=2.0.0->prophet) (1.4.4)\n",
            "Requirement already satisfied: cycler>=0.10 in /usr/local/lib/python3.7/dist-packages (from matplotlib>=2.0.0->prophet) (0.11.0)\n",
            "Requirement already satisfied: typing-extensions in /usr/local/lib/python3.7/dist-packages (from kiwisolver>=1.0.1->matplotlib>=2.0.0->prophet) (4.1.1)\n",
            "Requirement already satisfied: six>=1.5 in /usr/local/lib/python3.7/dist-packages (from python-dateutil>=2.8.0->prophet) (1.15.0)\n"
          ]
        }
      ]
    },
    {
      "cell_type": "code",
      "execution_count": null,
      "id": "90a6c8e5",
      "metadata": {
        "id": "90a6c8e5"
      },
      "outputs": [],
      "source": [
        "from prophet import Prophet"
      ]
    },
    {
      "cell_type": "code",
      "execution_count": null,
      "id": "8aa7350b",
      "metadata": {
        "colab": {
          "base_uri": "https://localhost:8080/"
        },
        "id": "8aa7350b",
        "outputId": "350f2216-b5f3-4ec4-d8d8-ac7fe562e143"
      },
      "outputs": [
        {
          "output_type": "stream",
          "name": "stdout",
          "text": [
            "      New_Date     Average\n",
            "0     31/12/19  129.854167\n",
            "1     30/12/19  132.437500\n",
            "2     29/12/19  129.895833\n",
            "3     28/12/19  127.145833\n",
            "4     27/12/19  124.604167\n",
            "...        ...         ...\n",
            "1327  13/05/16   10.208333\n",
            "1328  12/05/16   10.125000\n",
            "1329  11/05/16    9.062500\n",
            "1330  10/05/16    9.000000\n",
            "1331  09/05/16    8.681818\n",
            "\n",
            "[1332 rows x 2 columns]\n"
          ]
        }
      ],
      "source": [
        "modelData = model2_data.select('New_Date', 'Average')\n",
        "pandasDF = modelData.toPandas()\n",
        "print(pandasDF)"
      ]
    },
    {
      "cell_type": "code",
      "execution_count": null,
      "id": "1f8971a1",
      "metadata": {
        "colab": {
          "base_uri": "https://localhost:8080/"
        },
        "id": "1f8971a1",
        "outputId": "a0e9a34d-8e14-4806-fcfc-d69b60ea4c2a"
      },
      "outputs": [
        {
          "output_type": "stream",
          "name": "stderr",
          "text": [
            "DEBUG:cmdstanpy:input tempfile: /tmp/tmpwdbv33bt/pkxkkj14.json\n",
            "DEBUG:cmdstanpy:input tempfile: /tmp/tmpwdbv33bt/i0fxgrgh.json\n",
            "DEBUG:cmdstanpy:idx 0\n",
            "DEBUG:cmdstanpy:running CmdStan, num_threads: None\n",
            "DEBUG:cmdstanpy:CmdStan args: ['/usr/local/lib/python3.7/dist-packages/prophet/stan_model/prophet_model.bin', 'random', 'seed=74717', 'data', 'file=/tmp/tmpwdbv33bt/pkxkkj14.json', 'init=/tmp/tmpwdbv33bt/i0fxgrgh.json', 'output', 'file=/tmp/tmpwdbv33bt/prophet_modelqr5ewb6o/prophet_model-20221129065935.csv', 'method=optimize', 'algorithm=lbfgs', 'iter=10000']\n",
            "06:59:35 - cmdstanpy - INFO - Chain [1] start processing\n",
            "INFO:cmdstanpy:Chain [1] start processing\n",
            "06:59:36 - cmdstanpy - INFO - Chain [1] done processing\n",
            "INFO:cmdstanpy:Chain [1] done processing\n"
          ]
        }
      ],
      "source": [
        "# Select columns\n",
        "s1i1 = pandasDF[[\"New_Date\", \"Average\"]]\n",
        "# Prophet wants us to name columns as shown below\n",
        "s1i1.columns = [\"ds\", \"y\"]\n",
        "# instantiate the model and set parameters\n",
        "model = Prophet(\n",
        "    interval_width=0.95,\n",
        "    growth='linear',\n",
        "    daily_seasonality=False,\n",
        "    weekly_seasonality=False,\n",
        "    yearly_seasonality=True,\n",
        "    seasonality_mode='additive'\n",
        ")\n",
        "# fit the model to historical data\n",
        "model.fit(s1i1);"
      ]
    },
    {
      "cell_type": "code",
      "execution_count": null,
      "id": "7137fbcd",
      "metadata": {
        "colab": {
          "base_uri": "https://localhost:8080/",
          "height": 204
        },
        "id": "7137fbcd",
        "outputId": "f0b5b727-e381-4b1d-9a11-110877496c6b"
      },
      "outputs": [
        {
          "output_type": "execute_result",
          "data": {
            "text/plain": [
              "             ds\n",
              "1433 2020-04-11\n",
              "1434 2020-04-12\n",
              "1435 2020-04-13\n",
              "1436 2020-04-14\n",
              "1437 2020-04-15"
            ],
            "text/html": [
              "\n",
              "  <div id=\"df-ff92b77f-9346-49a2-a2a4-8c0f7beed4b7\">\n",
              "    <div class=\"colab-df-container\">\n",
              "      <div>\n",
              "<style scoped>\n",
              "    .dataframe tbody tr th:only-of-type {\n",
              "        vertical-align: middle;\n",
              "    }\n",
              "\n",
              "    .dataframe tbody tr th {\n",
              "        vertical-align: top;\n",
              "    }\n",
              "\n",
              "    .dataframe thead th {\n",
              "        text-align: right;\n",
              "    }\n",
              "</style>\n",
              "<table border=\"1\" class=\"dataframe\">\n",
              "  <thead>\n",
              "    <tr style=\"text-align: right;\">\n",
              "      <th></th>\n",
              "      <th>ds</th>\n",
              "    </tr>\n",
              "  </thead>\n",
              "  <tbody>\n",
              "    <tr>\n",
              "      <th>1433</th>\n",
              "      <td>2020-04-11</td>\n",
              "    </tr>\n",
              "    <tr>\n",
              "      <th>1434</th>\n",
              "      <td>2020-04-12</td>\n",
              "    </tr>\n",
              "    <tr>\n",
              "      <th>1435</th>\n",
              "      <td>2020-04-13</td>\n",
              "    </tr>\n",
              "    <tr>\n",
              "      <th>1436</th>\n",
              "      <td>2020-04-14</td>\n",
              "    </tr>\n",
              "    <tr>\n",
              "      <th>1437</th>\n",
              "      <td>2020-04-15</td>\n",
              "    </tr>\n",
              "  </tbody>\n",
              "</table>\n",
              "</div>\n",
              "      <button class=\"colab-df-convert\" onclick=\"convertToInteractive('df-ff92b77f-9346-49a2-a2a4-8c0f7beed4b7')\"\n",
              "              title=\"Convert this dataframe to an interactive table.\"\n",
              "              style=\"display:none;\">\n",
              "        \n",
              "  <svg xmlns=\"http://www.w3.org/2000/svg\" height=\"24px\"viewBox=\"0 0 24 24\"\n",
              "       width=\"24px\">\n",
              "    <path d=\"M0 0h24v24H0V0z\" fill=\"none\"/>\n",
              "    <path d=\"M18.56 5.44l.94 2.06.94-2.06 2.06-.94-2.06-.94-.94-2.06-.94 2.06-2.06.94zm-11 1L8.5 8.5l.94-2.06 2.06-.94-2.06-.94L8.5 2.5l-.94 2.06-2.06.94zm10 10l.94 2.06.94-2.06 2.06-.94-2.06-.94-.94-2.06-.94 2.06-2.06.94z\"/><path d=\"M17.41 7.96l-1.37-1.37c-.4-.4-.92-.59-1.43-.59-.52 0-1.04.2-1.43.59L10.3 9.45l-7.72 7.72c-.78.78-.78 2.05 0 2.83L4 21.41c.39.39.9.59 1.41.59.51 0 1.02-.2 1.41-.59l7.78-7.78 2.81-2.81c.8-.78.8-2.07 0-2.86zM5.41 20L4 18.59l7.72-7.72 1.47 1.35L5.41 20z\"/>\n",
              "  </svg>\n",
              "      </button>\n",
              "      \n",
              "  <style>\n",
              "    .colab-df-container {\n",
              "      display:flex;\n",
              "      flex-wrap:wrap;\n",
              "      gap: 12px;\n",
              "    }\n",
              "\n",
              "    .colab-df-convert {\n",
              "      background-color: #E8F0FE;\n",
              "      border: none;\n",
              "      border-radius: 50%;\n",
              "      cursor: pointer;\n",
              "      display: none;\n",
              "      fill: #1967D2;\n",
              "      height: 32px;\n",
              "      padding: 0 0 0 0;\n",
              "      width: 32px;\n",
              "    }\n",
              "\n",
              "    .colab-df-convert:hover {\n",
              "      background-color: #E2EBFA;\n",
              "      box-shadow: 0px 1px 2px rgba(60, 64, 67, 0.3), 0px 1px 3px 1px rgba(60, 64, 67, 0.15);\n",
              "      fill: #174EA6;\n",
              "    }\n",
              "\n",
              "    [theme=dark] .colab-df-convert {\n",
              "      background-color: #3B4455;\n",
              "      fill: #D2E3FC;\n",
              "    }\n",
              "\n",
              "    [theme=dark] .colab-df-convert:hover {\n",
              "      background-color: #434B5C;\n",
              "      box-shadow: 0px 1px 3px 1px rgba(0, 0, 0, 0.15);\n",
              "      filter: drop-shadow(0px 1px 2px rgba(0, 0, 0, 0.3));\n",
              "      fill: #FFFFFF;\n",
              "    }\n",
              "  </style>\n",
              "\n",
              "      <script>\n",
              "        const buttonEl =\n",
              "          document.querySelector('#df-ff92b77f-9346-49a2-a2a4-8c0f7beed4b7 button.colab-df-convert');\n",
              "        buttonEl.style.display =\n",
              "          google.colab.kernel.accessAllowed ? 'block' : 'none';\n",
              "\n",
              "        async function convertToInteractive(key) {\n",
              "          const element = document.querySelector('#df-ff92b77f-9346-49a2-a2a4-8c0f7beed4b7');\n",
              "          const dataTable =\n",
              "            await google.colab.kernel.invokeFunction('convertToInteractive',\n",
              "                                                     [key], {});\n",
              "          if (!dataTable) return;\n",
              "\n",
              "          const docLinkHtml = 'Like what you see? Visit the ' +\n",
              "            '<a target=\"_blank\" href=https://colab.research.google.com/notebooks/data_table.ipynb>data table notebook</a>'\n",
              "            + ' to learn more about interactive tables.';\n",
              "          element.innerHTML = '';\n",
              "          dataTable['output_type'] = 'display_data';\n",
              "          await google.colab.output.renderOutput(dataTable, element);\n",
              "          const docLink = document.createElement('div');\n",
              "          docLink.innerHTML = docLinkHtml;\n",
              "          element.appendChild(docLink);\n",
              "        }\n",
              "      </script>\n",
              "    </div>\n",
              "  </div>\n",
              "  "
            ]
          },
          "metadata": {},
          "execution_count": 213
        }
      ],
      "source": [
        "future = model.make_future_dataframe(periods=106)\n",
        "future.tail()"
      ]
    },
    {
      "cell_type": "code",
      "execution_count": null,
      "id": "17701297",
      "metadata": {
        "colab": {
          "base_uri": "https://localhost:8080/",
          "height": 669
        },
        "id": "17701297",
        "outputId": "eb8a8ce6-1c0f-45a3-cacb-9a92cafdea93"
      },
      "outputs": [
        {
          "output_type": "execute_result",
          "data": {
            "text/plain": [
              "             ds        yhat  yhat_lower  yhat_upper\n",
              "1418 2020-03-27  163.177993  -91.258401  416.245628\n",
              "1419 2020-03-28  166.728012  -71.071924  420.821573\n",
              "1420 2020-03-29  170.460417  -92.763796  409.459510\n",
              "1421 2020-03-30  174.266636  -86.173359  428.093223\n",
              "1422 2020-03-31  178.040674  -85.782781  411.592804\n",
              "1423 2020-04-01  181.681825  -85.962938  454.204754\n",
              "1424 2020-04-02  185.097230  -81.231994  424.478460\n",
              "1425 2020-04-03  188.204186  -65.136871  441.239719\n",
              "1426 2020-04-04  190.932171  -87.325052  445.126744\n",
              "1427 2020-04-05  193.224518  -63.096295  466.815156\n",
              "1428 2020-04-06  195.039696  -80.446472  422.097955\n",
              "1429 2020-04-07  196.352172  -56.580364  461.760478\n",
              "1430 2020-04-08  197.152832  -54.109832  466.516709\n",
              "1431 2020-04-09  197.448943  -85.403615  465.197459\n",
              "1432 2020-04-10  197.263675  -70.590350  457.102932\n",
              "1433 2020-04-11  196.635189  -50.766610  454.963017\n",
              "1434 2020-04-12  195.615317  -67.176645  445.661533\n",
              "1435 2020-04-13  194.267883  -72.007204  452.834357\n",
              "1436 2020-04-14  192.666704  -67.706612  470.025620\n",
              "1437 2020-04-15  190.893333  -81.842478  466.318536"
            ],
            "text/html": [
              "\n",
              "  <div id=\"df-c83b442a-e2b3-4a8b-8597-85a4bbd7f096\">\n",
              "    <div class=\"colab-df-container\">\n",
              "      <div>\n",
              "<style scoped>\n",
              "    .dataframe tbody tr th:only-of-type {\n",
              "        vertical-align: middle;\n",
              "    }\n",
              "\n",
              "    .dataframe tbody tr th {\n",
              "        vertical-align: top;\n",
              "    }\n",
              "\n",
              "    .dataframe thead th {\n",
              "        text-align: right;\n",
              "    }\n",
              "</style>\n",
              "<table border=\"1\" class=\"dataframe\">\n",
              "  <thead>\n",
              "    <tr style=\"text-align: right;\">\n",
              "      <th></th>\n",
              "      <th>ds</th>\n",
              "      <th>yhat</th>\n",
              "      <th>yhat_lower</th>\n",
              "      <th>yhat_upper</th>\n",
              "    </tr>\n",
              "  </thead>\n",
              "  <tbody>\n",
              "    <tr>\n",
              "      <th>1418</th>\n",
              "      <td>2020-03-27</td>\n",
              "      <td>163.177993</td>\n",
              "      <td>-91.258401</td>\n",
              "      <td>416.245628</td>\n",
              "    </tr>\n",
              "    <tr>\n",
              "      <th>1419</th>\n",
              "      <td>2020-03-28</td>\n",
              "      <td>166.728012</td>\n",
              "      <td>-71.071924</td>\n",
              "      <td>420.821573</td>\n",
              "    </tr>\n",
              "    <tr>\n",
              "      <th>1420</th>\n",
              "      <td>2020-03-29</td>\n",
              "      <td>170.460417</td>\n",
              "      <td>-92.763796</td>\n",
              "      <td>409.459510</td>\n",
              "    </tr>\n",
              "    <tr>\n",
              "      <th>1421</th>\n",
              "      <td>2020-03-30</td>\n",
              "      <td>174.266636</td>\n",
              "      <td>-86.173359</td>\n",
              "      <td>428.093223</td>\n",
              "    </tr>\n",
              "    <tr>\n",
              "      <th>1422</th>\n",
              "      <td>2020-03-31</td>\n",
              "      <td>178.040674</td>\n",
              "      <td>-85.782781</td>\n",
              "      <td>411.592804</td>\n",
              "    </tr>\n",
              "    <tr>\n",
              "      <th>1423</th>\n",
              "      <td>2020-04-01</td>\n",
              "      <td>181.681825</td>\n",
              "      <td>-85.962938</td>\n",
              "      <td>454.204754</td>\n",
              "    </tr>\n",
              "    <tr>\n",
              "      <th>1424</th>\n",
              "      <td>2020-04-02</td>\n",
              "      <td>185.097230</td>\n",
              "      <td>-81.231994</td>\n",
              "      <td>424.478460</td>\n",
              "    </tr>\n",
              "    <tr>\n",
              "      <th>1425</th>\n",
              "      <td>2020-04-03</td>\n",
              "      <td>188.204186</td>\n",
              "      <td>-65.136871</td>\n",
              "      <td>441.239719</td>\n",
              "    </tr>\n",
              "    <tr>\n",
              "      <th>1426</th>\n",
              "      <td>2020-04-04</td>\n",
              "      <td>190.932171</td>\n",
              "      <td>-87.325052</td>\n",
              "      <td>445.126744</td>\n",
              "    </tr>\n",
              "    <tr>\n",
              "      <th>1427</th>\n",
              "      <td>2020-04-05</td>\n",
              "      <td>193.224518</td>\n",
              "      <td>-63.096295</td>\n",
              "      <td>466.815156</td>\n",
              "    </tr>\n",
              "    <tr>\n",
              "      <th>1428</th>\n",
              "      <td>2020-04-06</td>\n",
              "      <td>195.039696</td>\n",
              "      <td>-80.446472</td>\n",
              "      <td>422.097955</td>\n",
              "    </tr>\n",
              "    <tr>\n",
              "      <th>1429</th>\n",
              "      <td>2020-04-07</td>\n",
              "      <td>196.352172</td>\n",
              "      <td>-56.580364</td>\n",
              "      <td>461.760478</td>\n",
              "    </tr>\n",
              "    <tr>\n",
              "      <th>1430</th>\n",
              "      <td>2020-04-08</td>\n",
              "      <td>197.152832</td>\n",
              "      <td>-54.109832</td>\n",
              "      <td>466.516709</td>\n",
              "    </tr>\n",
              "    <tr>\n",
              "      <th>1431</th>\n",
              "      <td>2020-04-09</td>\n",
              "      <td>197.448943</td>\n",
              "      <td>-85.403615</td>\n",
              "      <td>465.197459</td>\n",
              "    </tr>\n",
              "    <tr>\n",
              "      <th>1432</th>\n",
              "      <td>2020-04-10</td>\n",
              "      <td>197.263675</td>\n",
              "      <td>-70.590350</td>\n",
              "      <td>457.102932</td>\n",
              "    </tr>\n",
              "    <tr>\n",
              "      <th>1433</th>\n",
              "      <td>2020-04-11</td>\n",
              "      <td>196.635189</td>\n",
              "      <td>-50.766610</td>\n",
              "      <td>454.963017</td>\n",
              "    </tr>\n",
              "    <tr>\n",
              "      <th>1434</th>\n",
              "      <td>2020-04-12</td>\n",
              "      <td>195.615317</td>\n",
              "      <td>-67.176645</td>\n",
              "      <td>445.661533</td>\n",
              "    </tr>\n",
              "    <tr>\n",
              "      <th>1435</th>\n",
              "      <td>2020-04-13</td>\n",
              "      <td>194.267883</td>\n",
              "      <td>-72.007204</td>\n",
              "      <td>452.834357</td>\n",
              "    </tr>\n",
              "    <tr>\n",
              "      <th>1436</th>\n",
              "      <td>2020-04-14</td>\n",
              "      <td>192.666704</td>\n",
              "      <td>-67.706612</td>\n",
              "      <td>470.025620</td>\n",
              "    </tr>\n",
              "    <tr>\n",
              "      <th>1437</th>\n",
              "      <td>2020-04-15</td>\n",
              "      <td>190.893333</td>\n",
              "      <td>-81.842478</td>\n",
              "      <td>466.318536</td>\n",
              "    </tr>\n",
              "  </tbody>\n",
              "</table>\n",
              "</div>\n",
              "      <button class=\"colab-df-convert\" onclick=\"convertToInteractive('df-c83b442a-e2b3-4a8b-8597-85a4bbd7f096')\"\n",
              "              title=\"Convert this dataframe to an interactive table.\"\n",
              "              style=\"display:none;\">\n",
              "        \n",
              "  <svg xmlns=\"http://www.w3.org/2000/svg\" height=\"24px\"viewBox=\"0 0 24 24\"\n",
              "       width=\"24px\">\n",
              "    <path d=\"M0 0h24v24H0V0z\" fill=\"none\"/>\n",
              "    <path d=\"M18.56 5.44l.94 2.06.94-2.06 2.06-.94-2.06-.94-.94-2.06-.94 2.06-2.06.94zm-11 1L8.5 8.5l.94-2.06 2.06-.94-2.06-.94L8.5 2.5l-.94 2.06-2.06.94zm10 10l.94 2.06.94-2.06 2.06-.94-2.06-.94-.94-2.06-.94 2.06-2.06.94z\"/><path d=\"M17.41 7.96l-1.37-1.37c-.4-.4-.92-.59-1.43-.59-.52 0-1.04.2-1.43.59L10.3 9.45l-7.72 7.72c-.78.78-.78 2.05 0 2.83L4 21.41c.39.39.9.59 1.41.59.51 0 1.02-.2 1.41-.59l7.78-7.78 2.81-2.81c.8-.78.8-2.07 0-2.86zM5.41 20L4 18.59l7.72-7.72 1.47 1.35L5.41 20z\"/>\n",
              "  </svg>\n",
              "      </button>\n",
              "      \n",
              "  <style>\n",
              "    .colab-df-container {\n",
              "      display:flex;\n",
              "      flex-wrap:wrap;\n",
              "      gap: 12px;\n",
              "    }\n",
              "\n",
              "    .colab-df-convert {\n",
              "      background-color: #E8F0FE;\n",
              "      border: none;\n",
              "      border-radius: 50%;\n",
              "      cursor: pointer;\n",
              "      display: none;\n",
              "      fill: #1967D2;\n",
              "      height: 32px;\n",
              "      padding: 0 0 0 0;\n",
              "      width: 32px;\n",
              "    }\n",
              "\n",
              "    .colab-df-convert:hover {\n",
              "      background-color: #E2EBFA;\n",
              "      box-shadow: 0px 1px 2px rgba(60, 64, 67, 0.3), 0px 1px 3px 1px rgba(60, 64, 67, 0.15);\n",
              "      fill: #174EA6;\n",
              "    }\n",
              "\n",
              "    [theme=dark] .colab-df-convert {\n",
              "      background-color: #3B4455;\n",
              "      fill: #D2E3FC;\n",
              "    }\n",
              "\n",
              "    [theme=dark] .colab-df-convert:hover {\n",
              "      background-color: #434B5C;\n",
              "      box-shadow: 0px 1px 3px 1px rgba(0, 0, 0, 0.15);\n",
              "      filter: drop-shadow(0px 1px 2px rgba(0, 0, 0, 0.3));\n",
              "      fill: #FFFFFF;\n",
              "    }\n",
              "  </style>\n",
              "\n",
              "      <script>\n",
              "        const buttonEl =\n",
              "          document.querySelector('#df-c83b442a-e2b3-4a8b-8597-85a4bbd7f096 button.colab-df-convert');\n",
              "        buttonEl.style.display =\n",
              "          google.colab.kernel.accessAllowed ? 'block' : 'none';\n",
              "\n",
              "        async function convertToInteractive(key) {\n",
              "          const element = document.querySelector('#df-c83b442a-e2b3-4a8b-8597-85a4bbd7f096');\n",
              "          const dataTable =\n",
              "            await google.colab.kernel.invokeFunction('convertToInteractive',\n",
              "                                                     [key], {});\n",
              "          if (!dataTable) return;\n",
              "\n",
              "          const docLinkHtml = 'Like what you see? Visit the ' +\n",
              "            '<a target=\"_blank\" href=https://colab.research.google.com/notebooks/data_table.ipynb>data table notebook</a>'\n",
              "            + ' to learn more about interactive tables.';\n",
              "          element.innerHTML = '';\n",
              "          dataTable['output_type'] = 'display_data';\n",
              "          await google.colab.output.renderOutput(dataTable, element);\n",
              "          const docLink = document.createElement('div');\n",
              "          docLink.innerHTML = docLinkHtml;\n",
              "          element.appendChild(docLink);\n",
              "        }\n",
              "      </script>\n",
              "    </div>\n",
              "  </div>\n",
              "  "
            ]
          },
          "metadata": {},
          "execution_count": 214
        }
      ],
      "source": [
        "forecast = model.predict(future)\n",
        "forecast[['ds', 'yhat', 'yhat_lower', 'yhat_upper']].tail(20)"
      ]
    },
    {
      "cell_type": "code",
      "source": [
        "fig1 = model.plot(forecast)"
      ],
      "metadata": {
        "colab": {
          "base_uri": "https://localhost:8080/",
          "height": 441
        },
        "id": "yXxtDIGi4f4g",
        "outputId": "d01de0c8-8d57-4253-9968-b15a977c8d48"
      },
      "id": "yXxtDIGi4f4g",
      "execution_count": null,
      "outputs": [
        {
          "output_type": "display_data",
          "data": {
            "text/plain": [
              "<Figure size 720x432 with 1 Axes>"
            ],
            "image/png": "[encoded data removed]"
          },
          "metadata": {}
        }
      ]
    }
  ],
  "metadata": {
    "kernelspec": {
      "display_name": "Python 3 (ipykernel)",
      "language": "python",
      "name": "python3"
    },
    "language_info": {
      "codemirror_mode": {
        "name": "ipython",
        "version": 3
      },
      "file_extension": ".py",
      "mimetype": "text/x-python",
      "name": "python",
      "nbconvert_exporter": "python",
      "pygments_lexer": "ipython3",
      "version": "3.9.6"
    },
    "colab": {
      "provenance": []
    }
  },
  "nbformat": 4,
  "nbformat_minor": 5
}